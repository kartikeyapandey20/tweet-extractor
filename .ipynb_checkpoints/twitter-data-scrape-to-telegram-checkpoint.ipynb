{
 "cells": [
  {
   "cell_type": "markdown",
   "id": "d6a34182-9c9f-4bf3-b94f-27fdaf8b6727",
   "metadata": {},
   "source": [
    "# Scraping Tweets from twitter and uploading that to telegram channel"
   ]
  },
  {
   "cell_type": "markdown",
   "id": "6a61cd7a-4012-4df1-a1e9-6b5a08eab449",
   "metadata": {},
   "source": [
    "## Importing Libraies"
   ]
  },
  {
   "cell_type": "code",
   "execution_count": 15,
   "id": "052900c8-5f33-4418-8691-276f1420d8b9",
   "metadata": {},
   "outputs": [],
   "source": [
    "from ntscraper import Nitter\n",
    "import asyncio\n",
    "from aiogram import Bot\n",
    "import os\n",
    "from dotenv import load_dotenv"
   ]
  },
  {
   "cell_type": "code",
   "execution_count": 16,
   "id": "01c6d057-25e1-49fb-80b6-56354295f865",
   "metadata": {},
   "outputs": [
    {
     "data": {
      "text/plain": [
       "True"
      ]
     },
     "execution_count": 16,
     "metadata": {},
     "output_type": "execute_result"
    }
   ],
   "source": [
    "load_dotenv()"
   ]
  },
  {
   "cell_type": "code",
   "execution_count": 2,
   "id": "0a760401-8c5f-410a-891c-3b8083fd2819",
   "metadata": {},
   "outputs": [
    {
     "name": "stderr",
     "output_type": "stream",
     "text": [
      "Testing instances: 100%|███████████████████████████████████████████████████████████████| 16/16 [00:23<00:00,  1.50s/it]\n"
     ]
    }
   ],
   "source": [
    "# Defining instance for scraper\n",
    "scraper = Nitter()"
   ]
  },
  {
   "cell_type": "code",
   "execution_count": 5,
   "id": "a04efbd3-4473-4096-9ef0-3c9031d0ec21",
   "metadata": {},
   "outputs": [
    {
     "data": {
      "text/plain": [
       "{'tweets': [{'link': 'https://twitter.com/frontierflag/status/1832804232820359366#m',\n",
       "   'text': '#சுயநலவாதிவெங்கட்பிரபு #LingOrm #Monkeypox #RSAvNZL #OrlandoPirates',\n",
       "   'user': {'name': 'Frontier Flags',\n",
       "    'username': '@frontierflag',\n",
       "    'profile_id': '1696763861024616448',\n",
       "    'avatar': 'https://pbs.twimg.com/profile_images/1696763861024616448/JHeslvwo_bigger.jpg'},\n",
       "   'date': 'Sep 8, 2024 · 3:32 PM UTC',\n",
       "   'is-retweet': False,\n",
       "   'is-pinned': False,\n",
       "   'external-link': '',\n",
       "   'replying-to': [],\n",
       "   'quoted-post': {},\n",
       "   'stats': {'comments': 0, 'retweets': 0, 'quotes': 0, 'likes': 0},\n",
       "   'pictures': [],\n",
       "   'videos': ['https://video.twimg.com/ext_tw_video/1832803808516165632/pu/pl/2SgSPUTZ3p7Kma_O.m3u8?tag=12'],\n",
       "   'gifs': []},\n",
       "  {'link': 'https://twitter.com/Justrahul0/status/1832804179221602345#m',\n",
       "   'text': 'No Fan of #Sanatani will pass without liking this post.  Jay Shree Ganesha Ganeshay namah 🙏🏼  #GaneshChaurthi #TrainAccident #breakingnewsnowadays #Bangalore #GOATBlockBuster #Manipur #Drisey #Kerala #Monkeypox #GameChanger #Mammootty #Shame #BoycottBangladesh #Babygirl #up',\n",
       "   'user': {'name': 'Rahul ydv',\n",
       "    'username': '@Justrahul0',\n",
       "    'profile_id': '1828724688836780032',\n",
       "    'avatar': 'https://pbs.twimg.com/profile_images/1828724688836780032/ozU_W9gz_bigger.jpg'},\n",
       "   'date': 'Sep 8, 2024 · 3:32 PM UTC',\n",
       "   'is-retweet': False,\n",
       "   'is-pinned': False,\n",
       "   'external-link': '',\n",
       "   'replying-to': [],\n",
       "   'quoted-post': {},\n",
       "   'stats': {'comments': 0, 'retweets': 0, 'quotes': 0, 'likes': 0},\n",
       "   'pictures': ['https://pbs.twimg.com/media/GW9tgcebkAAX_Mt.jpg'],\n",
       "   'videos': [],\n",
       "   'gifs': []},\n",
       "  {'link': 'https://twitter.com/sunilbishnoi69/status/1832804174658232634#m',\n",
       "   'text': 'मतलब फलोदी बच गया #Monkeypox #sundayvibes',\n",
       "   'user': {'name': 'Tr.Sunil Bishnoi',\n",
       "    'username': '@sunilbishnoi69',\n",
       "    'profile_id': '1821582656070361089',\n",
       "    'avatar': 'https://pbs.twimg.com/profile_images/1821582656070361089/vBRa8AmF_bigger.jpg'},\n",
       "   'date': 'Sep 8, 2024 · 3:32 PM UTC',\n",
       "   'is-retweet': False,\n",
       "   'is-pinned': False,\n",
       "   'external-link': '',\n",
       "   'replying-to': ['@dineshdangi84'],\n",
       "   'quoted-post': {},\n",
       "   'stats': {'comments': 0, 'retweets': 0, 'quotes': 0, 'likes': 0},\n",
       "   'pictures': [],\n",
       "   'videos': [],\n",
       "   'gifs': []},\n",
       "  {'link': 'https://twitter.com/mani1pbi1/status/1832799284531495200#m',\n",
       "   'text': \"Pappu l Joker l Punjab l Rahul Gandhi PM Modu  @narendramodi  पिछली बार भी आपको वार्निंग दी गई कोरोना पर पर आपने ' नमस्ते ट्रम्प, बंगाल इलेक्शन, लिट्टी चोखा खाना जारी रखा '  अभी #Monkeypox आ रहा है,  बेवकूफ होना कोई बुरी बात न है पर  बेवकूफी का प्रदर्शन भी अच्छा न है\",\n",
       "   'user': {'name': 'Mani',\n",
       "    'username': '@mani1pbi1',\n",
       "    'profile_id': '1297843041097494528',\n",
       "    'avatar': 'https://pbs.twimg.com/profile_images/1297843041097494528/UiX82jhr_bigger.jpg'},\n",
       "   'date': 'Sep 8, 2024 · 3:12 PM UTC',\n",
       "   'is-retweet': True,\n",
       "   'is-pinned': False,\n",
       "   'external-link': '',\n",
       "   'replying-to': [],\n",
       "   'quoted-post': {},\n",
       "   'stats': {'comments': 0, 'retweets': 4, 'quotes': 0, 'likes': 5},\n",
       "   'pictures': ['https://pbs.twimg.com/media/GW9pPE5WcAAvtGa.jpg'],\n",
       "   'videos': [],\n",
       "   'gifs': []},\n",
       "  {'link': 'https://twitter.com/AHelenGr8/status/1832804136309461303#m',\n",
       "   'text': '🔴Terrifying winds hits due to Typhoon Yagi in Halong Bay of Quảng Ninh,Vietnam 🇻🇳 and Hynan, China🇨🇳 August 7,24 !Climate is changing due to 12 000 years cycle! #LingOrm #Monkeypox #TIFF2024 #Typhoon #TyphoonYagi #Yagi #ClimateChange #EndlessLove #光る君へ #ปิ่นภักดิ์EP6 #Narin',\n",
       "   'user': {'name': 'Helen G.',\n",
       "    'username': '@AHelenGr8',\n",
       "    'profile_id': '1763271839558549504',\n",
       "    'avatar': 'https://pbs.twimg.com/profile_images/1763271839558549504/AZ4hMQvL_bigger.jpg'},\n",
       "   'date': 'Sep 8, 2024 · 3:32 PM UTC',\n",
       "   'is-retweet': False,\n",
       "   'is-pinned': False,\n",
       "   'external-link': '',\n",
       "   'replying-to': [],\n",
       "   'quoted-post': {},\n",
       "   'stats': {'comments': 0, 'retweets': 0, 'quotes': 0, 'likes': 0},\n",
       "   'pictures': [],\n",
       "   'videos': ['https://video.twimg.com/ext_tw_video/1832804101932888065/pu/pl/v17AI1rl8lUP3-_y.m3u8?tag=12'],\n",
       "   'gifs': []}],\n",
       " 'threads': []}"
      ]
     },
     "execution_count": 5,
     "metadata": {},
     "output_type": "execute_result"
    }
   ],
   "source": [
    "data"
   ]
  },
  {
   "cell_type": "code",
   "execution_count": 19,
   "id": "127618cb-6041-4bba-bca7-4d0084f5ee24",
   "metadata": {},
   "outputs": [
    {
     "name": "stdout",
     "output_type": "stream",
     "text": [
      "08-Sep-24 21:12:59 - Unclosed client session\n",
      "client_session: <aiohttp.client.ClientSession object at 0x000001D1561BB7C0>\n"
     ]
    }
   ],
   "source": [
    "bot_token = os.getenv('BOT_TOKEN')\n",
    "channel_id = os.getenv('CHANNEL_ID')\n",
    "\n",
    "bot = Bot(token=bot_token)\n",
    "\n",
    "# Define an async function to send messages\n",
    "async def send_message(message):\n",
    "    await bot.send_message(chat_id=channel_id, text=message)\n",
    "\n",
    "async def main():\n",
    "    for tweet in data['tweets']:\n",
    "        link = tweet['link']\n",
    "        text = tweet['text']\n",
    "        user_name = tweet['user']['username']\n",
    "        date = tweet['date']\n",
    "        # Formating the message for user to read it\n",
    "        message = f\"User Name : {user_name} \\n Date : {date} \\n Tweet Link: {link}\\n\\nTweet Text: {text}\"\n",
    "        await send_message(message)\n",
    "\n",
    "await main()\n"
   ]
  },
  {
   "cell_type": "code",
   "execution_count": null,
   "id": "a0df0b90-baae-4fe2-8fee-69e7218b5807",
   "metadata": {},
   "outputs": [],
   "source": []
  }
 ],
 "metadata": {
  "kernelspec": {
   "display_name": "Python 3 (ipykernel)",
   "language": "python",
   "name": "python3"
  },
  "language_info": {
   "codemirror_mode": {
    "name": "ipython",
    "version": 3
   },
   "file_extension": ".py",
   "mimetype": "text/x-python",
   "name": "python",
   "nbconvert_exporter": "python",
   "pygments_lexer": "ipython3",
   "version": "3.8.19"
  }
 },
 "nbformat": 4,
 "nbformat_minor": 5
}
