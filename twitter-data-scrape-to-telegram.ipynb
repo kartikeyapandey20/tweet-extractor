{
 "cells": [
  {
   "cell_type": "markdown",
   "id": "d6a34182-9c9f-4bf3-b94f-27fdaf8b6727",
   "metadata": {},
   "source": [
    "# Scraping Tweets from twitter and uploading that to telegram channel"
   ]
  },
  {
   "cell_type": "markdown",
   "id": "6a61cd7a-4012-4df1-a1e9-6b5a08eab449",
   "metadata": {},
   "source": [
    "## Importing Libraies"
   ]
  },
  {
   "cell_type": "code",
   "execution_count": 72,
   "id": "052900c8-5f33-4418-8691-276f1420d8b9",
   "metadata": {},
   "outputs": [],
   "source": [
    "from ntscraper import Nitter\n",
    "import asyncio\n",
    "from aiogram import Bot\n",
    "import os\n",
    "from dotenv import load_dotenv"
   ]
  },
  {
   "cell_type": "code",
   "execution_count": 73,
   "id": "01c6d057-25e1-49fb-80b6-56354295f865",
   "metadata": {},
   "outputs": [
    {
     "data": {
      "text/plain": [
       "True"
      ]
     },
     "execution_count": 73,
     "metadata": {},
     "output_type": "execute_result"
    }
   ],
   "source": [
    "load_dotenv()"
   ]
  },
  {
   "cell_type": "code",
   "execution_count": 74,
   "id": "0a760401-8c5f-410a-891c-3b8083fd2819",
   "metadata": {},
   "outputs": [
    {
     "name": "stderr",
     "output_type": "stream",
     "text": [
      "Testing instances: 100%|███████████████████████████████████████████████████████████████| 16/16 [00:22<00:00,  1.41s/it]\n"
     ]
    }
   ],
   "source": [
    "# Defining instance for scraper\n",
    "scraper = Nitter()"
   ]
  },
  {
   "cell_type": "code",
   "execution_count": 75,
   "id": "1a461473-c70a-4004-8299-1c1842c629df",
   "metadata": {},
   "outputs": [
    {
     "name": "stdout",
     "output_type": "stream",
     "text": [
      "08-Sep-24 21:37:43 - No instance specified, using random instance https://nitter.lucabased.xyz\n",
      "08-Sep-24 21:37:50 - Current stats for monkeypox: 5 tweets, 0 threads...\n"
     ]
    }
   ],
   "source": [
    "data = scraper.get_tweets('monkeypox',mode = 'hashtag',number=5)"
   ]
  },
  {
   "cell_type": "code",
   "execution_count": 76,
   "id": "a04efbd3-4473-4096-9ef0-3c9031d0ec21",
   "metadata": {},
   "outputs": [
    {
     "data": {
      "text/plain": [
       "{'tweets': [{'link': 'https://twitter.com/Altamash_3412/status/1832804709050048530#m',\n",
       "   'text': 'बैल बुद्धि ने विज्ञान गणित और इतिहास सबकी  ऐसी की तैसी कर दी है |   लेकिन अंधभक्त \"बैल बुद्धि\" को बैल बुद्धि मानने को   तैयार ही नहीं | 😉🤣  #11_सितंबर_चलो_दिल्ली #Israel Waqf #HappyBirthdayAkshayKumar Urdu #monkeypox Manipur Bangalore',\n",
       "   'user': {'name': 'Altamash Khan',\n",
       "    'username': '@Altamash_3412',\n",
       "    'profile_id': '1825372611666165760',\n",
       "    'avatar': 'https://pbs.twimg.com/profile_images/1825372611666165760/uRAsd1UO_bigger.jpg'},\n",
       "   'date': 'Sep 8, 2024 · 3:34 PM UTC',\n",
       "   'is-retweet': True,\n",
       "   'is-pinned': False,\n",
       "   'external-link': '',\n",
       "   'replying-to': [],\n",
       "   'quoted-post': {},\n",
       "   'stats': {'comments': 4, 'retweets': 19, 'quotes': 0, 'likes': 20},\n",
       "   'pictures': [],\n",
       "   'videos': ['https://video.twimg.com/ext_tw_video/1832804348750872576/pu/pl/xo8JPBwAgPoZ-gUn.m3u8?tag=12'],\n",
       "   'gifs': []},\n",
       "  {'link': 'https://twitter.com/AbiodunBorisade/status/1832812875968082178#m',\n",
       "   'text': 'https://abiodunborisade.com/3-notable-gaffes-by-ajuri-ngelale-during-his-time-as-president-tinubus-media-aide/ #monkeypox #sundayvibes #NigeriaConductReferendum',\n",
       "   'user': {'name': 'Abiodun Borisade',\n",
       "    'username': '@AbiodunBorisade',\n",
       "    'profile_id': '1383086420739383300',\n",
       "    'avatar': 'https://pbs.twimg.com/profile_images/1383086420739383300/-I5Rnvnv_bigger.jpg'},\n",
       "   'date': 'Sep 8, 2024 · 4:06 PM UTC',\n",
       "   'is-retweet': False,\n",
       "   'is-pinned': False,\n",
       "   'external-link': '',\n",
       "   'replying-to': [],\n",
       "   'quoted-post': {},\n",
       "   'stats': {'comments': 0, 'retweets': 0, 'quotes': 0, 'likes': 0},\n",
       "   'pictures': [],\n",
       "   'videos': [],\n",
       "   'gifs': []},\n",
       "  {'link': 'https://twitter.com/BUDDHISAGA56118/status/1832812874575888439#m',\n",
       "   'text': 'भारत मे #monkeypox का आज पहला मामला सामने आया है, आप सभी सचेत और सजग रहें। साफ सफाई बहुत जरूरी है। #monkeypox',\n",
       "   'user': {'name': 'buddhi Sagar',\n",
       "    'username': '@BUDDHISAGA56118',\n",
       "    'profile_id': '1797443304709341184',\n",
       "    'avatar': 'https://pbs.twimg.com/profile_images/1797443304709341184/2Ep2Zs_v_bigger.jpg'},\n",
       "   'date': 'Sep 8, 2024 · 4:06 PM UTC',\n",
       "   'is-retweet': False,\n",
       "   'is-pinned': False,\n",
       "   'external-link': '',\n",
       "   'replying-to': [],\n",
       "   'quoted-post': {},\n",
       "   'stats': {'comments': 0, 'retweets': 0, 'quotes': 0, 'likes': 0},\n",
       "   'pictures': ['https://pbs.twimg.com/media/GW902FvbgAANbv0.jpg',\n",
       "    'https://pbs.twimg.com/media/GW902FxbsAAY3Gx.jpg'],\n",
       "   'videos': [],\n",
       "   'gifs': []},\n",
       "  {'link': 'https://twitter.com/Rathhoreviikram/status/1832812832658010113#m',\n",
       "   'text': 'India has reported its first suspected case of monkeypox, leading to heightened vigilance among health officials who are taking all necessary steps to prevent the spread of the infection.  #monkeypox #Mpox #Monkeypox',\n",
       "   'user': {'name': 'Rathore Vikram',\n",
       "    'username': '@Rathhoreviikram',\n",
       "    'profile_id': '1664319245482860544',\n",
       "    'avatar': 'https://pbs.twimg.com/profile_images/1664319245482860544/PBOLSCLU_bigger.jpg'},\n",
       "   'date': 'Sep 8, 2024 · 4:06 PM UTC',\n",
       "   'is-retweet': False,\n",
       "   'is-pinned': False,\n",
       "   'external-link': '',\n",
       "   'replying-to': [],\n",
       "   'quoted-post': {},\n",
       "   'stats': {'comments': 0, 'retweets': 0, 'quotes': 0, 'likes': 0},\n",
       "   'pictures': ['https://pbs.twimg.com/media/GW91jJibQAA8iAL.jpg',\n",
       "    'https://pbs.twimg.com/media/GW91jJiasAA2zPC.jpg'],\n",
       "   'videos': [],\n",
       "   'gifs': []},\n",
       "  {'link': 'https://twitter.com/jpchordiya_5/status/1832801281779609774#m',\n",
       "   'text': 'भारत मे #monkeypox का आज पहला मामला सामने आया है, आप सभी सचेत और सजग रहें। साफ सफाई बहुत जरूरी है। #monkeypox',\n",
       "   'user': {'name': 'jaypal chordia',\n",
       "    'username': '@jpchordiya_5',\n",
       "    'profile_id': '1817148896751071232',\n",
       "    'avatar': 'https://pbs.twimg.com/profile_images/1817148896751071232/_1X2VR6Q_bigger.jpg'},\n",
       "   'date': 'Sep 8, 2024 · 3:20 PM UTC',\n",
       "   'is-retweet': True,\n",
       "   'is-pinned': False,\n",
       "   'external-link': '',\n",
       "   'replying-to': [],\n",
       "   'quoted-post': {},\n",
       "   'stats': {'comments': 2, 'retweets': 25, 'quotes': 0, 'likes': 23},\n",
       "   'pictures': ['https://pbs.twimg.com/media/GW9q7ONbMAADIpW.jpg',\n",
       "    'https://pbs.twimg.com/media/GW9q7KdbYAAk0Nc.jpg'],\n",
       "   'videos': [],\n",
       "   'gifs': []}],\n",
       " 'threads': []}"
      ]
     },
     "execution_count": 76,
     "metadata": {},
     "output_type": "execute_result"
    }
   ],
   "source": [
    "data"
   ]
  },
  {
   "cell_type": "code",
   "execution_count": 77,
   "id": "127618cb-6041-4bba-bca7-4d0084f5ee24",
   "metadata": {},
   "outputs": [
    {
     "name": "stdout",
     "output_type": "stream",
     "text": [
      "08-Sep-24 21:38:05 - Unclosed client session\n",
      "client_session: <aiohttp.client.ClientSession object at 0x000001D156CEC0A0>\n"
     ]
    }
   ],
   "source": [
    "bot_token = os.getenv('BOT_TOKEN')\n",
    "channel_id = os.getenv('CHANNEL_ID')\n",
    "\n",
    "bot = Bot(token=bot_token)\n",
    "\n",
    "# Define an async function to send messages\n",
    "async def send_message(message):\n",
    "    await bot.send_message(chat_id=channel_id, text=message)\n",
    "\n",
    "async def main():\n",
    "    for tweet in data['tweets']:\n",
    "        link = tweet['link']\n",
    "        text = tweet['text']\n",
    "        user_name = tweet['user']['username']\n",
    "        date = tweet['date']\n",
    "        # Formating the message for user to read it\n",
    "        message = f\"User Name : {user_name} \\n Date : {date} \\n Tweet Link: {link}\\n\\nTweet Text: {text}\"\n",
    "        await send_message(message)\n",
    "\n",
    "await main()\n"
   ]
  },
  {
   "cell_type": "code",
   "execution_count": null,
   "id": "a0df0b90-baae-4fe2-8fee-69e7218b5807",
   "metadata": {},
   "outputs": [],
   "source": []
  }
 ],
 "metadata": {
  "kernelspec": {
   "display_name": "Python 3 (ipykernel)",
   "language": "python",
   "name": "python3"
  },
  "language_info": {
   "codemirror_mode": {
    "name": "ipython",
    "version": 3
   },
   "file_extension": ".py",
   "mimetype": "text/x-python",
   "name": "python",
   "nbconvert_exporter": "python",
   "pygments_lexer": "ipython3",
   "version": "3.8.19"
  }
 },
 "nbformat": 4,
 "nbformat_minor": 5
}
